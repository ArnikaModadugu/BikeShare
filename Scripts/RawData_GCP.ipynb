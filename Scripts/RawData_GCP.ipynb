{
  "cells": [
    {
      "cell_type": "code",
      "execution_count": 7,
      "metadata": {
        "colab": {
          "base_uri": "https://localhost:8080/"
        },
        "id": "cBfGpXwSf4c2",
        "outputId": "b563ca5c-3bee-467a-8528-caf345d50dbb"
      },
      "outputs": [
        {
          "name": "stdout",
          "output_type": "stream",
          "text": [
            "Requirement already satisfied: google-cloud-storage in /usr/local/lib/python3.10/dist-packages (2.8.0)\n",
            "Requirement already satisfied: google-auth<3.0dev,>=1.25.0 in /usr/local/lib/python3.10/dist-packages (from google-cloud-storage) (2.27.0)\n",
            "Requirement already satisfied: google-api-core!=2.0.*,!=2.1.*,!=2.2.*,!=2.3.0,<3.0.0dev,>=1.31.5 in /usr/local/lib/python3.10/dist-packages (from google-cloud-storage) (2.11.1)\n",
            "Requirement already satisfied: google-cloud-core<3.0dev,>=2.3.0 in /usr/local/lib/python3.10/dist-packages (from google-cloud-storage) (2.3.3)\n",
            "Requirement already satisfied: google-resumable-media>=2.3.2 in /usr/local/lib/python3.10/dist-packages (from google-cloud-storage) (2.7.0)\n",
            "Requirement already satisfied: requests<3.0.0dev,>=2.18.0 in /usr/local/lib/python3.10/dist-packages (from google-cloud-storage) (2.31.0)\n",
            "Requirement already satisfied: googleapis-common-protos<2.0.dev0,>=1.56.2 in /usr/local/lib/python3.10/dist-packages (from google-api-core!=2.0.*,!=2.1.*,!=2.2.*,!=2.3.0,<3.0.0dev,>=1.31.5->google-cloud-storage) (1.63.0)\n",
            "Requirement already satisfied: protobuf!=3.20.0,!=3.20.1,!=4.21.0,!=4.21.1,!=4.21.2,!=4.21.3,!=4.21.4,!=4.21.5,<5.0.0.dev0,>=3.19.5 in /usr/local/lib/python3.10/dist-packages (from google-api-core!=2.0.*,!=2.1.*,!=2.2.*,!=2.3.0,<3.0.0dev,>=1.31.5->google-cloud-storage) (3.20.3)\n",
            "Requirement already satisfied: cachetools<6.0,>=2.0.0 in /usr/local/lib/python3.10/dist-packages (from google-auth<3.0dev,>=1.25.0->google-cloud-storage) (5.3.3)\n",
            "Requirement already satisfied: pyasn1-modules>=0.2.1 in /usr/local/lib/python3.10/dist-packages (from google-auth<3.0dev,>=1.25.0->google-cloud-storage) (0.4.0)\n",
            "Requirement already satisfied: rsa<5,>=3.1.4 in /usr/local/lib/python3.10/dist-packages (from google-auth<3.0dev,>=1.25.0->google-cloud-storage) (4.9)\n",
            "Requirement already satisfied: google-crc32c<2.0dev,>=1.0 in /usr/local/lib/python3.10/dist-packages (from google-resumable-media>=2.3.2->google-cloud-storage) (1.5.0)\n",
            "Requirement already satisfied: charset-normalizer<4,>=2 in /usr/local/lib/python3.10/dist-packages (from requests<3.0.0dev,>=2.18.0->google-cloud-storage) (3.3.2)\n",
            "Requirement already satisfied: idna<4,>=2.5 in /usr/local/lib/python3.10/dist-packages (from requests<3.0.0dev,>=2.18.0->google-cloud-storage) (3.7)\n",
            "Requirement already satisfied: urllib3<3,>=1.21.1 in /usr/local/lib/python3.10/dist-packages (from requests<3.0.0dev,>=2.18.0->google-cloud-storage) (2.0.7)\n",
            "Requirement already satisfied: certifi>=2017.4.17 in /usr/local/lib/python3.10/dist-packages (from requests<3.0.0dev,>=2.18.0->google-cloud-storage) (2024.2.2)\n",
            "Requirement already satisfied: pyasn1<0.7.0,>=0.4.6 in /usr/local/lib/python3.10/dist-packages (from pyasn1-modules>=0.2.1->google-auth<3.0dev,>=1.25.0->google-cloud-storage) (0.6.0)\n"
          ]
        }
      ],
      "source": [
        "!pip install google-cloud-storage\n"
      ]
    },
    {
      "cell_type": "code",
      "execution_count": 5,
      "metadata": {
        "id": "WwRPpxDzckgS"
      },
      "outputs": [],
      "source": [
        "import pandas as pd\n",
        "import requests\n",
        "from bs4 import BeautifulSoup\n",
        "import numpy as np\n",
        "from zipfile import ZipFile\n",
        "from io import BytesIO\n",
        "from google.cloud import storage\n",
        "from io import StringIO\n",
        "import requests\n",
        "import zipfile\n",
        "import os"
      ]
    },
    {
      "cell_type": "code",
      "execution_count": 3,
      "metadata": {
        "colab": {
          "base_uri": "https://localhost:8080/"
        },
        "id": "znLwSGRSf-Fs",
        "outputId": "06d2ceea-e414-4c5d-c20a-f487170bc7a3"
      },
      "outputs": [
        {
          "name": "stdout",
          "output_type": "stream",
          "text": [
            "<class 'pandas.core.frame.DataFrame'>\n",
            "RangeIndex: 119849 entries, 0 to 119848\n",
            "Data columns (total 15 columns):\n",
            " #   Column               Non-Null Count   Dtype  \n",
            "---  ------               --------------   -----  \n",
            " 0   trip_id              119849 non-null  int64  \n",
            " 1   duration             119849 non-null  int64  \n",
            " 2   start_time           119849 non-null  object \n",
            " 3   end_time             119849 non-null  object \n",
            " 4   start_station        119849 non-null  int64  \n",
            " 5   start_lat            119840 non-null  float64\n",
            " 6   start_lon            119840 non-null  float64\n",
            " 7   end_station          119849 non-null  int64  \n",
            " 8   end_lat              117663 non-null  float64\n",
            " 9   end_lon              117663 non-null  float64\n",
            " 10  bike_id              119849 non-null  int64  \n",
            " 11  plan_duration        119849 non-null  int64  \n",
            " 12  trip_route_category  119849 non-null  object \n",
            " 13  passholder_type      119849 non-null  object \n",
            " 14  bike_type            119849 non-null  object \n",
            "dtypes: float64(4), int64(6), object(5)\n",
            "memory usage: 13.7+ MB\n",
            "None\n",
            "(119849, 15)\n",
            "     trip_id  duration     start_time       end_time  start_station  \\\n",
            "0  341828178        87  1/1/2024 0:10  1/1/2024 1:37           4515   \n",
            "1  341816845         6  1/1/2024 0:12  1/1/2024 0:18           4602   \n",
            "2  341817147        20  1/1/2024 0:15  1/1/2024 0:35           3064   \n",
            "3  341817198        16  1/1/2024 0:22  1/1/2024 0:38           4543   \n",
            "4  341816990         5  1/1/2024 0:23  1/1/2024 0:28           4518   \n",
            "\n",
            "   start_lat   start_lon  end_station    end_lat     end_lon  bike_id  \\\n",
            "0  34.039742 -118.442268         4564  34.035351 -118.434143    24169   \n",
            "1  34.164951 -118.363632         4603  34.152142 -118.361954    15430   \n",
            "2  34.046131 -118.257591         3081  34.031891 -118.250183     5913   \n",
            "3  33.957180 -118.451248         4583  33.976189 -118.418419     6132   \n",
            "4  34.057968 -118.299751         4587  34.060791 -118.309067    29601   \n",
            "\n",
            "   plan_duration trip_route_category passholder_type bike_type  \n",
            "0             30             One Way    Monthly Pass  electric  \n",
            "1              1             One Way         Walk-up  standard  \n",
            "2             30             One Way    Monthly Pass  standard  \n",
            "3              1             One Way         Walk-up  standard  \n",
            "4            365             One Way     Annual Pass  electric  \n"
          ]
        }
      ],
      "source": [
        "\n",
        "\n",
        "# URL of the ZIP file\n",
        "url = \"https://bikeshare.metro.net/wp-content/uploads/2024/04/metro-trips-2024-q1.zip\"\n",
        "\n",
        "# Specify user-agent\n",
        "user_agent = 'Mozilla/5.0 (Windows NT 10.0; Win64; x64) AppleWebKit/537.36 (KHTML, like Gecko) Chrome/58.0.3029.110 Safari/537.36'\n",
        "\n",
        "# Make request with specified user-agent\n",
        "response = requests.get(url, headers={'User-Agent': user_agent})\n",
        "\n",
        "# Check if request was successful\n",
        "if response.status_code == 200:\n",
        "    # Read the content of the ZIP file\n",
        "    with zipfile.ZipFile(BytesIO(response.content)) as z:\n",
        "        # Assume there's only one CSV file in the ZIP archive\n",
        "        csv_filename = z.namelist()[0]\n",
        "        with z.open(csv_filename) as f:\n",
        "            # Read CSV file into a DataFrame\n",
        "            df_raw = pd.read_csv(f)\n",
        "\n",
        "    # Display info and shape of the DataFrame\n",
        "    print(df_raw.info())\n",
        "    print(df_raw.shape)\n",
        "    # Display the first few rows of the DataFrame\n",
        "    print(df_raw.head())\n",
        "else:\n",
        "    print(f\"Failed to download ZIP file from URL: {url}. Response status code: {response.status_code}\")\n"
      ]
    },
    {
      "cell_type": "code",
      "execution_count": 17,
      "metadata": {
        "id": "N_AprRinoF1l"
      },
      "outputs": [
        {
          "name": "stdout",
          "output_type": "stream",
          "text": [
            "Data uploaded to bikeshare.csv in bucket bikeshare_project_data.\n"
          ]
        }
      ],
      "source": [
        "from io import StringIO\n",
        "import os\n",
        "from google.cloud import storage\n",
        "\n",
        "def upload_blob(bucket_name, data, destination_blob_name):\n",
        "    \"\"\"Uploads data to the bucket as a blob.\"\"\"\n",
        "    # Initialize a client with explicit credentials\n",
        "    os.environ[\"GOOGLE_APPLICATION_CREDENTIALS\"] = \"key.json\"\n",
        "\n",
        "    # Create a storage client object\n",
        "    storage_client = storage.Client()\n",
        "\n",
        "    # Get the bucket\n",
        "    bucket = storage_client.bucket(bucket_name)\n",
        "\n",
        "    # Create a blob object\n",
        "    blob = bucket.blob(destination_blob_name)\n",
        "\n",
        "    # Upload the data\n",
        "    blob.upload_from_string(data)\n",
        "\n",
        "    print(f'Data uploaded to {destination_blob_name} in bucket {bucket_name}.')\n",
        "\n",
        "# Set your Google Cloud Storage bucket name\n",
        "bucket_name = \"bikeshare_project_data\"\n",
        "\n",
        "# Set the destination blob name (file name in Google Cloud Storage)\n",
        "destination_blob_name = \"bikeshare.csv\"\n",
        "\n",
        "# Convert DataFrame to CSV format in memory\n",
        "output = StringIO()\n",
        "df_raw.to_csv(output, index=False)\n",
        "data = output.getvalue()\n",
        "output.close()\n",
        "\n",
        "# Call the function to upload the data\n",
        "upload_blob(bucket_name, data, destination_blob_name)\n"
      ]
    },
    {
      "cell_type": "code",
      "execution_count": 13,
      "metadata": {
        "id": "rspCvQY0oFzJ"
      },
      "outputs": [
        {
          "name": "stdout",
          "output_type": "stream",
          "text": [
            "<class 'pandas.core.frame.DataFrame'>\n",
            "RangeIndex: 419 entries, 0 to 418\n",
            "Data columns (total 18 columns):\n",
            " #   Column               Non-Null Count  Dtype  \n",
            "---  ------               --------------  -----  \n",
            " 0   Station_ID           413 non-null    float64\n",
            " 1   Station_Name         413 non-null    object \n",
            " 2   Day of Go_live_date  413 non-null    object \n",
            " 3   Region               412 non-null    object \n",
            " 4   Status               413 non-null    object \n",
            " 5   Latitude             413 non-null    float64\n",
            " 6   Longitude            413 non-null    float64\n",
            " 7   Unnamed: 7           0 non-null      float64\n",
            " 8   Unnamed: 8           0 non-null      float64\n",
            " 9   Unnamed: 9           0 non-null      float64\n",
            " 10  Unnamed: 10          0 non-null      float64\n",
            " 11  Unnamed: 11          0 non-null      float64\n",
            " 12  Unnamed: 12          0 non-null      float64\n",
            " 13  Unnamed: 13          0 non-null      float64\n",
            " 14  Unnamed: 14          0 non-null      float64\n",
            " 15  Unnamed: 15          0 non-null      float64\n",
            " 16  Unnamed: 16          0 non-null      float64\n",
            " 17  Unnamed: 17          0 non-null      float64\n",
            "dtypes: float64(14), object(4)\n",
            "memory usage: 59.0+ KB\n",
            "None\n",
            "(419, 18)\n",
            "   Station_ID     Station_Name Day of Go_live_date Region   Status   Latitude  \\\n",
            "0      3000.0  Virtual Station            7/7/2016     NaN  Active   0.000000   \n",
            "1      3005.0     7th & Flower            7/7/2016    DTLA  Active  34.048500   \n",
            "2      3006.0      Olive & 8th            7/7/2016    DTLA  Active  34.045540   \n",
            "3      3007.0      5th & Grand            7/7/2016    DTLA  Active  34.050480   \n",
            "4      3008.0   Figueroa & 9th            7/7/2016    DTLA  Active  34.046612   \n",
            "\n",
            "    Longitude  Unnamed: 7  Unnamed: 8  Unnamed: 9  Unnamed: 10  Unnamed: 11  \\\n",
            "0    0.000000         NaN         NaN         NaN          NaN          NaN   \n",
            "1 -118.258537         NaN         NaN         NaN          NaN          NaN   \n",
            "2 -118.256668         NaN         NaN         NaN          NaN          NaN   \n",
            "3 -118.254593         NaN         NaN         NaN          NaN          NaN   \n",
            "4 -118.262733         NaN         NaN         NaN          NaN          NaN   \n",
            "\n",
            "   Unnamed: 12  Unnamed: 13  Unnamed: 14  Unnamed: 15  Unnamed: 16  \\\n",
            "0          NaN          NaN          NaN          NaN          NaN   \n",
            "1          NaN          NaN          NaN          NaN          NaN   \n",
            "2          NaN          NaN          NaN          NaN          NaN   \n",
            "3          NaN          NaN          NaN          NaN          NaN   \n",
            "4          NaN          NaN          NaN          NaN          NaN   \n",
            "\n",
            "   Unnamed: 17  \n",
            "0          NaN  \n",
            "1          NaN  \n",
            "2          NaN  \n",
            "3          NaN  \n",
            "4          NaN  \n"
          ]
        }
      ],
      "source": [
        "import pandas as pd\n",
        "import requests\n",
        "from io import BytesIO\n",
        "\n",
        "# Specify the URL\n",
        "url = \"https://bikeshare.metro.net/wp-content/uploads/2024/04/metro-bike-share-stations-2024-04-01.csv\"\n",
        "\n",
        "# Specify user-agent\n",
        "user_agent = 'Mozilla/5.0 (Windows NT 10.0; Win64; x64) AppleWebKit/537.36 (KHTML, like Gecko) Chrome/58.0.3029.110 Safari/537.36'\n",
        "\n",
        "# Make request with specified user-agent\n",
        "response = requests.get(url, headers={'User-Agent': user_agent})\n",
        "\n",
        "# Check if request was successful\n",
        "if response.status_code == 200:\n",
        "    # Read CSV file directly from the URL with specified encoding\n",
        "    station_raw = pd.read_csv(BytesIO(response.content), encoding='latin1')\n",
        "\n",
        "    # Display info and shape of the DataFrame\n",
        "    print(station_raw.info())\n",
        "    print(station_raw.shape)\n",
        "    # Display the first few rows of the DataFrame\n",
        "    print(station_raw.head())\n",
        "else:\n",
        "    print(f\"Failed to download CSV file from URL: {url}. Response status code: {response.status_code}\")\n"
      ]
    },
    {
      "cell_type": "code",
      "execution_count": 16,
      "metadata": {},
      "outputs": [
        {
          "name": "stdout",
          "output_type": "stream",
          "text": [
            "Data uploaded to station.csv in bucket bikeshare_project_data.\n"
          ]
        }
      ],
      "source": [
        "from io import StringIO\n",
        "import os\n",
        "from google.cloud import storage\n",
        "\n",
        "def upload_blob(bucket_name, data, destination_blob_name):\n",
        "    \"\"\"Uploads data to the bucket as a blob.\"\"\"\n",
        "    # Initialize a client with explicit credentials\n",
        "    os.environ[\"GOOGLE_APPLICATION_CREDENTIALS\"] = \"key.json\"\n",
        "\n",
        "    # Create a storage client object\n",
        "    storage_client = storage.Client()\n",
        "\n",
        "    # Get the bucket\n",
        "    bucket = storage_client.bucket(bucket_name)\n",
        "\n",
        "    # Create a blob object\n",
        "    blob = bucket.blob(destination_blob_name)\n",
        "\n",
        "    # Upload the data\n",
        "    blob.upload_from_string(data)\n",
        "\n",
        "    print(f'Data uploaded to {destination_blob_name} in bucket {bucket_name}.')\n",
        "\n",
        "# Set your Google Cloud Storage bucket name\n",
        "bucket_name = \"bikeshare_project_data\"\n",
        "\n",
        "# Set the destination blob name (file name in Google Cloud Storage)\n",
        "destination_blob_name = \"station.csv\"\n",
        "\n",
        "# Convert DataFrame to CSV format in memory\n",
        "output = StringIO()\n",
        "station_raw.to_csv(output, index=False)\n",
        "station_data = output.getvalue()\n",
        "output.close()\n",
        "\n",
        "# Call the function to upload the data\n",
        "upload_blob(bucket_name, station_data, destination_blob_name)\n"
      ]
    }
  ],
  "metadata": {
    "colab": {
      "provenance": []
    },
    "kernelspec": {
      "display_name": "Python 3",
      "name": "python3"
    },
    "language_info": {
      "codemirror_mode": {
        "name": "ipython",
        "version": 3
      },
      "file_extension": ".py",
      "mimetype": "text/x-python",
      "name": "python",
      "nbconvert_exporter": "python",
      "pygments_lexer": "ipython3",
      "version": "3.11.1"
    }
  },
  "nbformat": 4,
  "nbformat_minor": 0
}
